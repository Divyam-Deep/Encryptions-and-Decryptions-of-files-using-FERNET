{
  "nbformat": 4,
  "nbformat_minor": 0,
  "metadata": {
    "colab": {
      "provenance": [],
      "authorship_tag": "ABX9TyMtCIDsuWSTPZ4nDyNYkRbu",
      "include_colab_link": true
    },
    "kernelspec": {
      "name": "python3",
      "display_name": "Python 3"
    },
    "language_info": {
      "name": "python"
    }
  },
  "cells": [
    {
      "cell_type": "markdown",
      "metadata": {
        "id": "view-in-github",
        "colab_type": "text"
      },
      "source": [
        "<a href=\"https://colab.research.google.com/github/Divyam-Deep/Encryptions-and-Decryptions-of-files-using-FERNET/blob/main/Fernet.ipynb\" target=\"_parent\"><img src=\"https://colab.research.google.com/assets/colab-badge.svg\" alt=\"Open In Colab\"/></a>"
      ]
    },
    {
      "cell_type": "code",
      "execution_count": 13,
      "metadata": {
        "colab": {
          "base_uri": "https://localhost:8080/"
        },
        "id": "2ADXnbk6Gd60",
        "outputId": "f8fc8ab2-72ad-4de4-e6ea-76a691c1261d"
      },
      "outputs": [
        {
          "output_type": "stream",
          "name": "stdout",
          "text": [
            "Requirement already satisfied: cryptography in /usr/local/lib/python3.10/dist-packages (43.0.3)\n",
            "Requirement already satisfied: cffi>=1.12 in /usr/local/lib/python3.10/dist-packages (from cryptography) (1.17.1)\n",
            "Requirement already satisfied: pycparser in /usr/local/lib/python3.10/dist-packages (from cffi>=1.12->cryptography) (2.22)\n"
          ]
        }
      ],
      "source": [
        "!pip install cryptography"
      ]
    },
    {
      "cell_type": "code",
      "source": [
        "from cryptography.fernet import Fernet\n",
        "import os"
      ],
      "metadata": {
        "id": "9ZytcTaVGrD1"
      },
      "execution_count": 14,
      "outputs": []
    },
    {
      "cell_type": "code",
      "source": [
        "def key(filename = 'encrypted.key'):\n",
        "    key = Fernet.generate_key()\n",
        "    with open(filename, 'wb') as key_file:\n",
        "        key_file.write(key)\n",
        "    print(filename)"
      ],
      "metadata": {
        "id": "15Zmbdb-HPIQ"
      },
      "execution_count": 15,
      "outputs": []
    },
    {
      "cell_type": "code",
      "source": [
        "def load_key(filename = 'encrypted.key'):\n",
        "    return open(filename, 'rb').read()"
      ],
      "metadata": {
        "id": "hBT-JrFbIDnY"
      },
      "execution_count": 16,
      "outputs": []
    },
    {
      "cell_type": "code",
      "source": [
        "def encrypt(input_file, filename ='encrypted.key'):\n",
        "    key = load_key(filename)\n",
        "    fernet = Fernet(key)\n",
        "    with open(input_file, 'rb') as file:\n",
        "        file_data = file.read()\n",
        "    encrypted_data = fernet.encrypt(file_data)\n",
        "    encrypted_file = input_file+\".encrypted\"\n",
        "    with open(encrypted_file, 'wb') as file:\n",
        "        file.write(encrypted_data)\n",
        "\n",
        "    print(input_file, 'has been encrypted')"
      ],
      "metadata": {
        "id": "w1nkZURfILC2"
      },
      "execution_count": 21,
      "outputs": []
    },
    {
      "cell_type": "code",
      "source": [
        "def decrypt(encrypted_file, filename ='encrypted.key'):\n",
        "    key = load_key(filename)\n",
        "    fernet = Fernet(key)\n",
        "    with open(encrypted_file, 'rb') as file:\n",
        "        encrypted_data = file.read()\n",
        "\n",
        "        decrypted_data = fernet.decrypt(encrypted_data)\n",
        "        decrypted_file = encrypted_file.replace('.encrypted', '.decrypted')\n",
        "        with open(decrypted_file, 'wb') as file:\n",
        "          file.write(decrypted_data)\n",
        "\n",
        "        print(decrypted_file, 'has been decrypted')"
      ],
      "metadata": {
        "id": "4SFRHWepQqzG"
      },
      "execution_count": 22,
      "outputs": []
    },
    {
      "cell_type": "code",
      "source": [
        "def main():\n",
        "  print(\"1.Generate Key\")\n",
        "  print(\"2.Encrypt File\")\n",
        "  print(\"3.Decrypt File\")\n",
        "  choice = input(\"Enter your choice from 1/2/3: \")\n",
        "  if choice == '1':\n",
        "    filename = input(\"Enter Key Name: \")\n",
        "    key(filename)\n",
        "  elif choice == '2':\n",
        "    input_file = input(\"Enter the file path: \")\n",
        "    filename = input(\"Enter Key Name\")\n",
        "    encrypt(input_file, filename)\n",
        "  elif choice == '3':\n",
        "    encrypted_file = input(\"Enter Encrypted FIle Path: \")\n",
        "    filename = input(\"Enter Key Name\")\n",
        "    decrypt(encrypted_file, filename)\n",
        "  else:\n",
        "    print('INVALID CHOICE')\n",
        "\n",
        "if __name__ == '__main__':\n",
        "  main()"
      ],
      "metadata": {
        "colab": {
          "base_uri": "https://localhost:8080/"
        },
        "id": "Nfma8lF8Rxx2",
        "outputId": "5dec5437-6f64-4265-835f-ee1435ee4b8a"
      },
      "execution_count": 24,
      "outputs": [
        {
          "output_type": "stream",
          "name": "stdout",
          "text": [
            "1.Generate Key\n",
            "2.Encrypt File\n",
            "3.Decrypt File\n",
            "Enter your choice from 1/2/3: 3\n",
            "Enter Encrypted FIle Path: /content/Sample.txt.encrypted\n",
            "Enter KEy Namekey\n",
            "/content/Sample.txt.decrypted has been decrypted\n"
          ]
        }
      ]
    },
    {
      "cell_type": "code",
      "source": [],
      "metadata": {
        "id": "vJd7zhd7R1WV"
      },
      "execution_count": 19,
      "outputs": []
    }
  ]
}